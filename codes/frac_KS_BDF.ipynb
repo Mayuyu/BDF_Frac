{
 "cells": [
  {
   "cell_type": "code",
   "execution_count": 2,
   "metadata": {
    "collapsed": true
   },
   "outputs": [],
   "source": [
    "%matplotlib inline\n",
    "import math as math\n",
    "import numpy as np\n",
    "from scipy import integrate, linalg, special\n",
    "import matplotlib.pyplot as plt"
   ]
  },
  {
   "cell_type": "markdown",
   "metadata": {},
   "source": [
    "# Caputo derivative"
   ]
  },
  {
   "cell_type": "markdown",
   "metadata": {},
   "source": [
    "$$\\partial_t^\\alpha u = \\frac{1}{\\Gamma(1-\\alpha)}\\int^t_0 \\frac{\\partial_s u}{(t-u)^\\alpha}\\,ds$$"
   ]
  },
  {
   "cell_type": "markdown",
   "metadata": {},
   "source": [
    "# Numerical schemes"
   ]
  },
  {
   "cell_type": "markdown",
   "metadata": {},
   "source": [
    "## Second order BDF method"
   ]
  },
  {
   "cell_type": "markdown",
   "metadata": {},
   "source": [
    "For $n\\ge 1$, the derivative is computed by\n",
    "\n",
    "$$\n",
    "D_c^{\\gamma}u(t^{n+1})\\approx\n",
    "k^{-\\gamma}(b^{n+1}*u)_{n+1}=:\\mathcal{D}_k u.\n",
    "$$\n",
    "\n",
    "Here $b^{n+1}=(b_m^{n+1})_{m=0}^{n+1}$ is a sequence with $n+2$ components.\n",
    "\n",
    "$$\n",
    "(b^{n+1}*u)_{n+1}=\\sum_{m=0}^{n+1}b_{m}^{n+1}u_{n+1-m}\n",
    "$$\n",
    "\n",
    "is the $n+1$-th component of this convolution.\n",
    "\n",
    "The sequences $b^{n+1}$ are given as follows:\n",
    "\n",
    "For $n=1$,\n",
    "\\begin{gather*}\n",
    "\\Gamma(2-\\gamma)b_{0}^{2}=-\\frac{1}{2}2^{1-\\gamma}+\\frac{1}{2-\\gamma}2^{2-\\gamma}\\\\\n",
    "\\Gamma(2-\\gamma)b_{1}^{2}=2\\cdot 2^{1-\\gamma}-\\frac{2}{2-\\gamma}2^{2-\\gamma}\\\\\n",
    "\\Gamma(2-\\gamma)b_{2}^{2}=-\\frac{3}{2}2^{1-\\gamma}+\\frac{1}{2-\\gamma}2^{2-\\gamma}\n",
    "\\end{gather*}\n",
    "\n",
    "For $n=2$,\n",
    "\\begin{gather*}\n",
    "\\Gamma(2-\\gamma)b_{0}^{3}=\\frac{1}{2}+\\frac{1}{2-\\gamma}\\\\\n",
    "\\Gamma(2-\\gamma)b_{1}^{3}\n",
    "=-\\frac{3}{2}-\\frac{3}{2-\\gamma}-\\frac{1}{2}3^{1-\\gamma}\n",
    "+\\frac{1}{2-\\gamma}3^{2-\\gamma}\\\\\n",
    "\\Gamma(2-\\gamma)b_{2}^{3}=\\frac{3}{2}+2\\cdot 3^{1-\\gamma}\n",
    "+\\frac{3}{2-\\gamma}-\\frac{2}{2-\\gamma}3^{2-\\gamma}\\\\\n",
    "\\Gamma(2-\\gamma)b_{3}^{3}=-\\frac{1}{2}\n",
    "-\\frac{3}{2}3^{1-\\gamma}+\\frac{1}{2-\\gamma}(3^{2-\\gamma}-1)\n",
    "\\end{gather*}\n",
    "\n",
    "For $n\\ge 3$:\n",
    "\n",
    "\\begin{gather}\n",
    "\\begin{array}{c}\n",
    "\\Gamma(2-\\gamma)b_{0}^{n+1}=\\frac{1}{2}+\\frac{1}{2-\\gamma},\\\\\n",
    "\\Gamma(2-\\gamma)b_1^{n+1}=-\\frac{3}{2}+2^{1-\\gamma}\\frac{1}{2}\n",
    "-\\frac{3}{2-\\gamma}+\\frac{1}{2-\\gamma}2^{2-\\gamma}\n",
    " \\end{array}\n",
    "\\end{gather}\n",
    "\n",
    "When $2\\le m\\le n-2$, we have $\\Gamma(2-\\gamma)b_{m}^{n+1}=h(m)$ where the function $h$ is given by\n",
    "\n",
    "\\begin{multline}\n",
    "h(m)=-\\frac{1}{2}(m-2)^{1-\\gamma}-\\frac{3}{2}m^{1-\\gamma}+\\frac{3}{2}(m-1)^{1-\\gamma}+\\frac{1}{2}(m+1)^{1-\\gamma}\\\\\n",
    "+\\frac{1}{2-\\gamma}(m+1)^{2-\\gamma}\n",
    "-\\frac{3}{2-\\gamma}m^{2-\\gamma}\n",
    "+\\frac{3}{2-\\gamma}(m-1)^{2-\\gamma}\n",
    "-\\frac{1}{2-\\gamma}(m-2)^{2-\\gamma}\n",
    "\\end{multline}\n",
    "\n",
    "For the last three coefficients,\n",
    "\n",
    "\\begin{gather}\n",
    "\\Gamma(2-\\gamma)b_{n-1}^{n+1}\n",
    "=-\\frac{1}{2}n^{1-\\gamma}-\\frac{1}{2}(n+1)^{1-\\gamma}\n",
    "-\\frac{1}{2-\\gamma}[n^{2-\\gamma}-(n+1)^{2-\\gamma}]\n",
    "+h(n-1)\\\\\n",
    "\\Gamma(2-\\gamma)b_n^{n+1}=h(n)+\\frac{3}{2}n^{1-\\gamma}+\\frac{3}{2}(n+1)^{1-\\gamma}\n",
    "+\\frac{3}{2-\\gamma}[n^{2-\\gamma}-(n+1)^{2-\\gamma}]\\\\\n",
    "\\Gamma(2-\\gamma)b_{n+1}^{n+1}\n",
    "=-\\frac{1}{2}(n-1)^{1-\\gamma}-\\frac{3}{2}(n+1)^{1-\\gamma}\n",
    "-\\frac{1}{2-\\gamma}(n-1)^{2-\\gamma}+\\frac{1}{2-\\gamma}(n+1)^{2-\\gamma}\n",
    "\\end{gather}"
   ]
  },
  {
   "cell_type": "code",
   "execution_count": 2,
   "metadata": {
    "collapsed": true
   },
   "outputs": [],
   "source": [
    "class CaputoDerivative:\n",
    "    '''Discretization of Caputo derivative with finite difference method\n",
    "    \n",
    "    Attributes:\n",
    "    -----------\n",
    "    gamma: float \n",
    "           differential order, fractional\n",
    "    dt: float\n",
    "        time step\n",
    "    nt: float\n",
    "        total time steps\n",
    "        \n",
    "    Methods:\n",
    "    ---------\n",
    "    bdf2_set: set up the coefficients b (1D array of floats) of bdf2\n",
    "    bdf2_l: coefficient of local part\n",
    "    bdf2_h: history part of the derivative\n",
    "\n",
    "    '''\n",
    "    \n",
    "    def __init__(self, gamma, dt, nt):\n",
    "        self.gamma = gamma\n",
    "        self.dt = dt\n",
    "        self.nt = nt        \n",
    "        \n",
    "    def bdf2_set(self):\n",
    "        nt, g_1, g_2 = self.nt, 1-self.gamma, 2-self.gamma\n",
    "        h = lambda m: -0.5*(m-2)**g_1 - 1.5*m**g_1 + 1.5*(m-1)**g_1 + 0.5*(m+1)**g_1 + ((m+1)**g_2 - 3*m**g_2 + 3*(m-1)**g_2\n",
    "                      -(m-2)**g_2)/g_2\n",
    "        self.b = np.zeros(nt-2)\n",
    "        self.b[0] = 0.5 + 1/g_2\n",
    "        self.b[1] = -1.5 + 2**g_1/2 - 3/g_2 + 2**g_2/g_2\n",
    "        self.b[2:] = h(np.arange(2, nt-2))\n",
    "        lnt = np.arange(3,nt)\n",
    "        self.b2 = -0.5*lnt**g_1 - 0.5*(lnt+1)**g_1 - (lnt**g_2 - (lnt+1)**g_2)/g_2 + h(lnt-1)\n",
    "        self.b1 = h(lnt) + 1.5*lnt**g_1 + 1.5*(lnt+1)**g_1 + 3*(lnt**g_2 - (lnt+1)**g_2)/g_2\n",
    "        self.b0 = -0.5*(lnt-1)**g_1 - 1.5*(lnt+1)**g_1 - (lnt-1)**g_2/g_2 + (lnt+1)**g_2/g_2\n",
    "        \n",
    "    def bdf2_l(self):\n",
    "        return self.b[0]/(special.gamma(2-self.gamma)*self.dt**self.gamma)\n",
    "        \n",
    "    def bdf2_h(self, u, n):\n",
    "        b_n = np.zeros(n+1)\n",
    "        b_n[3:] = self.b[n-2:0:-1]\n",
    "        b_n[2] = self.b2[n-3]\n",
    "        b_n[1] = self.b1[n-3]\n",
    "        b_n[0] = self.b0[n-3]\n",
    "        \n",
    "        return b_n @ (u[:n+1])/(special.gamma(2-self.gamma)*self.dt**self.gamma)"
   ]
  },
  {
   "cell_type": "code",
   "execution_count": 3,
   "metadata": {},
   "outputs": [
    {
     "data": {
      "text/plain": [
       "632.44226525454428"
      ]
     },
     "execution_count": 3,
     "metadata": {},
     "output_type": "execute_result"
    }
   ],
   "source": [
    "gamma = 0.99999999999\n",
    "T = 3\n",
    "nt = 3\n",
    "dt = T/nt\n",
    "u = np.zeros(nt+1)\n",
    "u = np.exp(2*np.arange(nt+1)*dt)\n",
    "Dt_u = CaputoDerivative(gamma, dt, nt+1)\n",
    "Dt_u.bdf2_set()\n",
    "Dt_u.bdf2_h(u, nt-1) + Dt_u.bdf2_l()*u[nt] "
   ]
  },
  {
   "cell_type": "code",
   "execution_count": 4,
   "metadata": {
    "collapsed": true
   },
   "outputs": [],
   "source": [
    "def E(z, a, b, N):\n",
    "    n = np.arange(N)\n",
    "    return np.sum(z**n/special.gamma(a*n+b))"
   ]
  },
  {
   "cell_type": "code",
   "execution_count": 5,
   "metadata": {},
   "outputs": [
    {
     "data": {
      "text/plain": [
       "14.778112197861301"
      ]
     },
     "execution_count": 5,
     "metadata": {},
     "output_type": "execute_result"
    }
   ],
   "source": [
    "2*np.exp(2)"
   ]
  },
  {
   "cell_type": "code",
   "execution_count": 7,
   "metadata": {
    "collapsed": true
   },
   "outputs": [],
   "source": [
    "def preconditioner(s, M):\n",
    "    return s/M"
   ]
  },
  {
   "cell_type": "code",
   "execution_count": 8,
   "metadata": {
    "collapsed": true
   },
   "outputs": [],
   "source": [
    "def pcg(p, elliptic, M, s, dx, dy, dt, l2_target):\n",
    "    '''Performs cg relaxation\n",
    "    Assumes Dirichlet boundary conditions p=0\n",
    "    \n",
    "    Parameters:\n",
    "    ----------\n",
    "    p: 2D array of floats\n",
    "       Initial guess\n",
    "    b: 2D array of floats\n",
    "       Source term\n",
    "    A: a function with 2D array of floats as input\n",
    "       elliptic operator\n",
    "    dx: float\n",
    "        Mesh spacing in x direction\n",
    "    dy: float\n",
    "        Mesh spacing in y direction\n",
    "    l2_target: float\n",
    "        exit criterion\n",
    "        \n",
    "    Returns:\n",
    "    -------\n",
    "    p: 2D array of float\n",
    "        Distribution after relaxation\n",
    "    '''\n",
    "    ny, nx = p.shape\n",
    "    res = np.zeros((ny,nx)) # residual\n",
    "    ellip_d  = np.zeros((ny,nx)) # to store result of matrix multiplication \n",
    "    precond_res = np.zeros((ny,nx))\n",
    "    \n",
    "    l2_norm = 1\n",
    "    iterations = 0\n",
    "    l2_conv = []\n",
    "    \n",
    "    # Step-0 We compute the initial residual and \n",
    "    # the first search direction is just this residual\n",
    "    res = s - elliptic(p, dx, dy)\n",
    "    precond_res = preconditioner(res.copy(), M)\n",
    "    d = precond_res.copy()\n",
    "    tmp = np.sum(res*precond_res)\n",
    "    ellip_d = elliptic(d, dx, dy)\n",
    "    sigma = np.sum(d*ellip_d)\n",
    "    \n",
    "    # Iterations\n",
    "    while l2_norm > l2_target:\n",
    "\n",
    "        p_k = p.copy()\n",
    "        res_k = res.copy()\n",
    "        d_k = d.copy()\n",
    "        \n",
    "        alpha = tmp/sigma\n",
    "\n",
    "        p = p_k + alpha*d_k\n",
    "        res = res_k - alpha*ellip_d\n",
    "        \n",
    "        precond_res = preconditioner(res.copy(), M)\n",
    "        tmp_p1 = np.sum(precond_res*res)\n",
    "        beta = tmp_p1/tmp\n",
    "        tmp = tmp_p1\n",
    "        \n",
    "        d = precond_res + beta*d_k\n",
    "        ellip_d = elliptic(d, dx, dy)\n",
    "        sigma = np.sum(d*ellip_d)\n",
    "        \n",
    "        l2_norm = L2_rel_error(p_k,p)\n",
    "        iterations += 1\n",
    "        l2_conv.append(l2_norm)\n",
    "    \n",
    "    print('Number of PCG iterations: {0:d}'.format(iterations))\n",
    "    return p, l2_conv     "
   ]
  },
  {
   "cell_type": "code",
   "execution_count": 9,
   "metadata": {
    "collapsed": true
   },
   "outputs": [],
   "source": [
    "class KellerSegal:\n",
    "    def __init__(self, rho, c, gamma, dt, nt, dx, nx):\n",
    "        self.rho = np.zeros((nt,nx,nx))\n",
    "        self.c = np.zeros((nx,nx))\n",
    "        self.gamma = gamma\n",
    "        self.dt = dt\n",
    "        self.dx = dx\n",
    "        self.nt = nt\n",
    "        self.Dt_rho = CaputoDerivative(gamma, dt, nt)\n",
    "        \n",
    "    def laplace_set(self):\n",
    "        nx, dx = self.nx, self,dx\n",
    "        self.lambda_ = 4*((np.sin(np.arange(0,nx)*np.pi/nx)**2)[:,None] \n",
    "                        + (np.sin(np.arange(0,nx)*np.pi/nx)**2)[None,:])/dx**2\n",
    "        self.lambda_[0,0] = 1\n",
    "    \n",
    "    def concentration_march(self, n):\n",
    "        rho_hat = np.fft.fft2(rho[n])\n",
    "        rho_hat[0,0] = 0\n",
    "        self.c = np.fft.ifft2(rho_hat/lambda_)\n",
    "        \n",
    "    def fokker_planck(self, p, dx, dy):\n",
    "        M_sqr = np.exp(0.5*self.c)\n",
    "        M_sqm = np.roll(M_sqr,1,axis=0) + np.roll(M_sqr,-1,axis=0) + np.roll(M_sqr,1,axis=1) + np.roll(M_sqr,-1,axis=1)\n",
    "        h = p/M_sqr\n",
    "        S = (np.roll(h,1,axis=0) + np.roll(h,-1,axis=0) \n",
    "             + np.roll(h,1,axis=1) + np.roll(h,-1,axis=1))/dx**2\n",
    "        self.M = self.Dt_rho.bdf2_l()*p + M_sqm*p/M_sqr**2/dx**2\n",
    "        return self.M - S\n",
    "    \n",
    "    def density_march(self, n):\n",
    "        his = -Dt_rho.bdf2_h(self.rho, n)\n",
    "        p = self.rho[n]\n",
    "        self.rho[n+1] = pcg(p, self.fokker_planck, self.M, his, self.nx, self.nx, self.dt, 10e-6)\n",
    "        \n",
    "    def solve(self):\n",
    "        self.Dt_rho.bdf2_set()\n",
    "        self.laplace_set()\n",
    "        for n in np.arange(self.nt-1):\n",
    "            self.concentration_march()\n",
    "            self.density_march()\n",
    "            "
   ]
  },
  {
   "cell_type": "code",
   "execution_count": 10,
   "metadata": {
    "collapsed": true
   },
   "outputs": [
    {
     "ename": "TypeError",
     "evalue": "__init__() missing 7 required positional arguments: 'rho', 'c', 'gamma', 'dt', 'nt', 'dx', and 'nx'",
     "output_type": "error",
     "traceback": [
      "\u001b[0;31m---------------------------------------------------------------------------\u001b[0m",
      "\u001b[0;31mTypeError\u001b[0m                                 Traceback (most recent call last)",
      "\u001b[0;32m<ipython-input-10-63a33635ec1f>\u001b[0m in \u001b[0;36m<module>\u001b[0;34m()\u001b[0m\n\u001b[0;32m----> 1\u001b[0;31m \u001b[0mK\u001b[0m \u001b[0;34m=\u001b[0m \u001b[0mKellerSegal\u001b[0m\u001b[0;34m(\u001b[0m\u001b[0;34m)\u001b[0m\u001b[0;34m\u001b[0m\u001b[0m\n\u001b[0m",
      "\u001b[0;31mTypeError\u001b[0m: __init__() missing 7 required positional arguments: 'rho', 'c', 'gamma', 'dt', 'nt', 'dx', and 'nx'"
     ]
    }
   ],
   "source": [
    "K = KellerSegal()"
   ]
  },
  {
   "cell_type": "code",
   "execution_count": null,
   "metadata": {
    "collapsed": true
   },
   "outputs": [],
   "source": []
  },
  {
   "cell_type": "code",
   "execution_count": 16,
   "metadata": {
    "collapsed": true
   },
   "outputs": [],
   "source": [
    "# Set up parameters.\n",
    "dx = 0.01\n",
    "x = np.arange(-2,2,dx)\n",
    "nx = x.shape[0]\n",
    "dt = 0.001\n",
    "nt = 200\n",
    "T = dt*nt\n",
    "alpha = 0.8\n",
    "a = 1\n",
    "uL = 2\n",
    "uR = 1\n",
    "\n",
    "# Set up initial data\n",
    "u = np.zeros((nt, nx))\n",
    "#u[0] = ((x < -1)*uL + (x > 1)*uR)*np.ones(nx) + (x > -1)*(x < 1)*(0.5*np.sin(3/2*np.pi*x) + 1.5)\n",
    "u[0] = ((x < 0)*uL + (x > 0)*uR)*np.ones(nx)\n",
    "# Iteration of the scheme\n",
    "\n",
    "# Generate the coefficient matrix A\n",
    "d1 = -special.gamma(2-alpha)*dt**(alpha)/dx*a*np.ones(nx-1)\n",
    "d = 1 + special.gamma(2-alpha)*dt**(alpha)/dx*a*np.ones(nx)\n",
    "A = np.diagflat(d1,1) + np.diagflat(d)\n",
    "#A[0, 0] = 1\n",
    "invA = linalg.inv(A)\n",
    "\n",
    "# Generate the source term b\n",
    "q = np.zeros(nx)\n",
    "q[0] = special.gamma(2-alpha)*dt**(alpha)/dx*a*uL\n",
    "\n",
    "\n",
    "u[1] = (u[0] + q[None,:]).dot(invA)\n",
    "for n in np.arange(1,3):\n",
    "    u[n+1] = (u[n] - (np.arange(n+1,1,-1)**(1-alpha) - np.arange(n,0,-1)**(1-alpha)).dot(u[1:n+1] - u[:n]) + q[None,:]).dot(invA)\n"
   ]
  },
  {
   "cell_type": "code",
   "execution_count": 17,
   "metadata": {},
   "outputs": [],
   "source": [
    "gamma = alpha\n",
    "g_1 = 1 - gamma\n",
    "g_2 = 2 - gamma\n",
    "\n",
    "Dt_u = CaputoDerivative(gamma, dt, nt)\n",
    "Dt_u.bdf2_set()\n",
    "\n",
    "d1 = -np.ones(nx-1)/dx\n",
    "d = Dt_u.bdf2_l() + np.ones(nx)/dx\n",
    "A = np.diagflat(d1,1) + np.diagflat(d)\n",
    "        #A[0, 0] = 1\n",
    "invA = linalg.inv(A)\n",
    "        \n",
    "s = np.zeros(nx)\n",
    "s[0] = 2/dx\n",
    "        \n",
    "for n in np.arange(3, nt-1):\n",
    "    u[n+1] = (s[None, :] - Dt_u.bdf2_h(u, n)).dot(invA)"
   ]
  },
  {
   "cell_type": "code",
   "execution_count": 18,
   "metadata": {},
   "outputs": [
    {
     "data": {
      "text/plain": [
       "[<matplotlib.lines.Line2D at 0x117348c24e0>]"
      ]
     },
     "execution_count": 18,
     "metadata": {},
     "output_type": "execute_result"
    },
    {
     "data": {
      "image/png": "[encoded data removed]",
      "text/plain": [
       "<matplotlib.figure.Figure at 0x1173480e160>"
      ]
     },
     "metadata": {},
     "output_type": "display_data"
    }
   ],
   "source": [
    "plt.plot(x, u[-1])"
   ]
  },
  {
   "cell_type": "code",
   "execution_count": 175,
   "metadata": {
    "collapsed": true
   },
   "outputs": [],
   "source": [
    "a = np.arange(5)"
   ]
  },
  {
   "cell_type": "code",
   "execution_count": 184,
   "metadata": {},
   "outputs": [
    {
     "data": {
      "text/plain": [
       "array([0, 1, 2, 3, 4])"
      ]
     },
     "execution_count": 184,
     "metadata": {},
     "output_type": "execute_result"
    }
   ],
   "source": [
    "a"
   ]
  },
  {
   "cell_type": "code",
   "execution_count": 186,
   "metadata": {},
   "outputs": [
    {
     "data": {
      "text/plain": [
       "array([1, 4])"
      ]
     },
     "execution_count": 186,
     "metadata": {},
     "output_type": "execute_result"
    }
   ],
   "source": [
    "a[1:7:3]"
   ]
  },
  {
   "cell_type": "code",
   "execution_count": 187,
   "metadata": {},
   "outputs": [
    {
     "data": {
      "text/plain": [
       "array([4, 0, 1, 2, 3])"
      ]
     },
     "execution_count": 187,
     "metadata": {},
     "output_type": "execute_result"
    }
   ],
   "source": [
    "np.roll(a,1)"
   ]
  }
 ],
 "metadata": {
  "anaconda-cloud": {},
  "kernelspec": {
   "display_name": "Python 3",
   "language": "python",
   "name": "python3"
  },
  "language_info": {
   "codemirror_mode": {
    "name": "ipython",
    "version": 3
   },
   "file_extension": ".py",
   "mimetype": "text/x-python",
   "name": "python",
   "nbconvert_exporter": "python",
   "pygments_lexer": "ipython3",
   "version": "3.6.3"
  }
 },
 "nbformat": 4,
 "nbformat_minor": 2
}
